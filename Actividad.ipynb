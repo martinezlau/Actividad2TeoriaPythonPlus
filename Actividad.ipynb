{
 "cells": [
  {
   "cell_type": "code",
   "execution_count": 37,
   "id": "2f469104",
   "metadata": {},
   "outputs": [
    {
     "data": {
      "image/png": "[encoded data removed]",
      "text/plain": [
       "<Figure size 432x288 with 1 Axes>"
      ]
     },
     "metadata": {
      "needs_background": "light"
     },
     "output_type": "display_data"
    }
   ],
   "source": [
    "import time\n",
    "from datetime import datetime\n",
    "import pandas as pd\n",
    "import matplotlib.pyplot as plt\n",
    "\n",
    "path = \"datos_de_prueba.csv\"  \n",
    "\n",
    "datos = pd.read_csv(path) \n",
    "\n",
    "partidas_lunes = datos[\n",
    "    (datos[\"Tiempo\"].apply(lambda x: datetime.fromtimestamp(x).weekday()) == 2) & ((datos[\"Nombre de evento\"] == \"inicio_partida\") | (datos[\"Nombre de evento\"] == \"fin\")) ]\n",
    "\n",
    "partidas = partidas_lunes.groupby([\"Partida\"])[\"Tiempo\"].diff().reset_index()\n",
    "partidas.drop(['index'], axis = 'columns', inplace=True)\n",
    "partidas = partidas[partidas['Tiempo'].notna()].plot(kind=\"bar\")"
   ]
  },
  {
   "cell_type": "markdown",
   "id": "d36f36f5",
   "metadata": {},
   "source": [
    "Pruebo con esta condicion datos[\"Tiempo\"].apply(lambda x: datetime.fromtimestamp(x).weekday()) == 2) ya que en el csv de datos, solo tenia cargadas partidas que se jugaron un Miercoles (Dia numero 2 en el arreglo de dias ). Para que busque partidas que se jugaron los lunes deberia comprobar que datos[\"Tiempo\"].apply(lambda x: datetime.fromtimestamp(x).weekday()) == 0. Sea igual a 0, ya que Lunes es el dia 0 en el arreglo de dias"
   ]
  }
 ],
 "metadata": {
  "kernelspec": {
   "display_name": "Python 3",
   "language": "python",
   "name": "python3"
  },
  "language_info": {
   "codemirror_mode": {
    "name": "ipython",
    "version": 3
   },
   "file_extension": ".py",
   "mimetype": "text/x-python",
   "name": "python",
   "nbconvert_exporter": "python",
   "pygments_lexer": "ipython3",
   "version": "3.8.5"
  }
 },
 "nbformat": 4,
 "nbformat_minor": 5
}
